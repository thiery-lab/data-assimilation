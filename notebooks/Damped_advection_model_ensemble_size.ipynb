{
 "cells": [
  {
   "cell_type": "code",
   "execution_count": 1,
   "id": "1d7331d3-d042-49b1-8a90-52492e34b04a",
   "metadata": {},
   "outputs": [],
   "source": [
    "import numpy as np\n",
    "import dapy.filters as filters\n",
    "import dapy.utils.pou as pou\n",
    "from dapy.models.damped_advection import SpatialDampedAdvectionModel\n",
    "from dapy.utils.plotting import (\n",
    "    plot_rank_histogram, \n",
    "    animate_2d_fields, \n",
    "    plot_slices_through_time, \n",
    "    plot_slices_through_space\n",
    ")\n",
    "import matplotlib.pyplot as plt\n",
    "plt.style.use('seaborn-white')\n",
    "plt.rcParams['figure.dpi'] = 100\n",
    "plt.rcParams['animation.html'] = 'html5'"
   ]
  },
  {
   "cell_type": "code",
   "execution_count": 2,
   "id": "6235219f-4c28-48cd-9bb4-157bbefed1ff",
   "metadata": {},
   "outputs": [],
   "source": [
    "model_params = {\n",
    "    'spatial_mesh_shape': (50, 50),\n",
    "    'time_step': 1.,\n",
    "    'observation_grid_shape': (10, 10),\n",
    "    'domain_size': (1., 1.),\n",
    "    'state_noise_length_scale': 0.0707,\n",
    "    'state_noise_amplitude': 5.,\n",
    "    'advection_coeff': (0.0625, 0.0625),\n",
    "    'damping_coeff': np.log(2) / 2,\n",
    "    'observation_noise_std': 1.,\n",
    "    'observation_function': lambda x, t: x / np.tanh(x * 10)\n",
    "}\n",
    "model = SpatialDampedAdvectionModel(**model_params)"
   ]
  },
  {
   "cell_type": "code",
   "execution_count": 3,
   "id": "0eeac884-b558-4d1b-bd16-a32e787dea38",
   "metadata": {},
   "outputs": [
    {
     "data": {
      "text/html": [
       "\n",
       "        <div style=\"line-height: 28px; width: 100%; display: flex;\n",
       "                    flex-flow: row wrap; align-items: center;\n",
       "                    position: relative;\">\n",
       "          <label style=\"margin-right: 8px; flex-shrink: 0;\n",
       "                        font-size: var(--jp-code-font-size, 13px);\n",
       "                        font-family: var(--jp-code-font-family, monospace);\">\n",
       "            Sampling:&nbsp;100%\n",
       "          </label>\n",
       "          <div role=\"progressbar\" aria-valuenow=\"1.0\"\n",
       "               aria-valuemin=\"0\" aria-valuemax=\"1\"\n",
       "               style=\"position: relative; flex-grow: 1; align-self: stretch;\n",
       "                      margin-top: 4px; margin-bottom: 4px;  height: initial;\n",
       "                      background-color: #eee;\">\n",
       "            <div style=\"background-color: var(--jp-success-color1, #4caf50); position: absolute;\n",
       "                        bottom: 0; left: 0; width: 100%;\n",
       "                        height: 100%;\"></div>\n",
       "          </div>\n",
       "          <div style=\"margin-left: 8px; flex-shrink: 0;\n",
       "                      font-family: var(--jp-code-font-family, monospace);\n",
       "                      font-size: var(--jp-code-font-size, 13px);\">\n",
       "            200/200 [00:00&lt;00:00, 406.45time-steps/s]\n",
       "          </div>\n",
       "        </div>\n",
       "        "
      ],
      "text/plain": [
       "Sampling: 100%|██████████|200/200 [00:00<00:00, 406.45time-steps/s]"
      ]
     },
     "metadata": {},
     "output_type": "display_data"
    }
   ],
   "source": [
    "observation_time_indices = np.arange(0, 200)\n",
    "seed = 20220302\n",
    "rng = np.random.default_rng(seed)\n",
    "state_sequence, observation_sequence = model.sample_state_and_observation_sequences(\n",
    "    rng, observation_time_indices, return_states_at_all_times=False\n",
    ")"
   ]
  },
  {
   "cell_type": "code",
   "execution_count": 4,
   "id": "860d8619-b894-4c45-a4f7-c4b4b6bad1c5",
   "metadata": {},
   "outputs": [],
   "source": [
    "localisation_radius = 0.2\n",
    "ensemble_filter = filters.ScalableLocalEnsembleTransformParticleFilter(\n",
    "    localisation_radius=localisation_radius, \n",
    "    partition_of_unity=pou.SmoothedBlock2dPartitionOfUnityBasis(\n",
    "        model, (10, 10), kernel_halfwidth=3, use_distance_from_patch_center=True\n",
    "    ),\n",
    "    optimal_transport_solver_kwargs={'num_thread': 4},\n",
    "    calculate_cost_matrices_func_kwargs={'num_thread': 4}\n",
    ")"
   ]
  },
  {
   "cell_type": "code",
   "execution_count": 5,
   "id": "571318af-4906-4417-856d-0811d893d9eb",
   "metadata": {},
   "outputs": [
    {
     "name": "stdout",
     "output_type": "stream",
     "text": [
      "Number of particles = 100\n"
     ]
    },
    {
     "data": {
      "text/html": [
       "\n",
       "        <div style=\"line-height: 28px; width: 100%; display: flex;\n",
       "                    flex-flow: row wrap; align-items: center;\n",
       "                    position: relative;\">\n",
       "          <label style=\"margin-right: 8px; flex-shrink: 0;\n",
       "                        font-size: var(--jp-code-font-size, 13px);\n",
       "                        font-family: var(--jp-code-font-family, monospace);\">\n",
       "            Filtering:&nbsp;100%\n",
       "          </label>\n",
       "          <div role=\"progressbar\" aria-valuenow=\"1.0\"\n",
       "               aria-valuemin=\"0\" aria-valuemax=\"1\"\n",
       "               style=\"position: relative; flex-grow: 1; align-self: stretch;\n",
       "                      margin-top: 4px; margin-bottom: 4px;  height: initial;\n",
       "                      background-color: #eee;\">\n",
       "            <div style=\"background-color: var(--jp-success-color1, #4caf50); position: absolute;\n",
       "                        bottom: 0; left: 0; width: 100%;\n",
       "                        height: 100%;\"></div>\n",
       "          </div>\n",
       "          <div style=\"margin-left: 8px; flex-shrink: 0;\n",
       "                      font-family: var(--jp-code-font-family, monospace);\n",
       "                      font-size: var(--jp-code-font-size, 13px);\">\n",
       "            200/200 [01:25&lt;00:00, 2.35time-steps/s]\n",
       "          </div>\n",
       "        </div>\n",
       "        "
      ],
      "text/plain": [
       "Filtering: 100%|██████████|200/200 [01:25<00:00, 2.35time-steps/s]"
      ]
     },
     "metadata": {},
     "output_type": "display_data"
    },
    {
     "data": {
      "text/html": [
       "\n",
       "        <div style=\"line-height: 28px; width: 100%; display: flex;\n",
       "                    flex-flow: row wrap; align-items: center;\n",
       "                    position: relative;\">\n",
       "          <label style=\"margin-right: 8px; flex-shrink: 0;\n",
       "                        font-size: var(--jp-code-font-size, 13px);\n",
       "                        font-family: var(--jp-code-font-family, monospace);\">\n",
       "            Filtering:&nbsp;100%\n",
       "          </label>\n",
       "          <div role=\"progressbar\" aria-valuenow=\"1.0\"\n",
       "               aria-valuemin=\"0\" aria-valuemax=\"1\"\n",
       "               style=\"position: relative; flex-grow: 1; align-self: stretch;\n",
       "                      margin-top: 4px; margin-bottom: 4px;  height: initial;\n",
       "                      background-color: #eee;\">\n",
       "            <div style=\"background-color: var(--jp-success-color1, #4caf50); position: absolute;\n",
       "                        bottom: 0; left: 0; width: 100%;\n",
       "                        height: 100%;\"></div>\n",
       "          </div>\n",
       "          <div style=\"margin-left: 8px; flex-shrink: 0;\n",
       "                      font-family: var(--jp-code-font-family, monospace);\n",
       "                      font-size: var(--jp-code-font-size, 13px);\">\n",
       "            200/200 [01:11&lt;00:00, 2.81time-steps/s]\n",
       "          </div>\n",
       "        </div>\n",
       "        "
      ],
      "text/plain": [
       "Filtering: 100%|██████████|200/200 [01:11<00:00, 2.81time-steps/s]"
      ]
     },
     "metadata": {},
     "output_type": "display_data"
    },
    {
     "data": {
      "text/html": [
       "\n",
       "        <div style=\"line-height: 28px; width: 100%; display: flex;\n",
       "                    flex-flow: row wrap; align-items: center;\n",
       "                    position: relative;\">\n",
       "          <label style=\"margin-right: 8px; flex-shrink: 0;\n",
       "                        font-size: var(--jp-code-font-size, 13px);\n",
       "                        font-family: var(--jp-code-font-family, monospace);\">\n",
       "            Filtering:&nbsp;100%\n",
       "          </label>\n",
       "          <div role=\"progressbar\" aria-valuenow=\"1.0\"\n",
       "               aria-valuemin=\"0\" aria-valuemax=\"1\"\n",
       "               style=\"position: relative; flex-grow: 1; align-self: stretch;\n",
       "                      margin-top: 4px; margin-bottom: 4px;  height: initial;\n",
       "                      background-color: #eee;\">\n",
       "            <div style=\"background-color: var(--jp-success-color1, #4caf50); position: absolute;\n",
       "                        bottom: 0; left: 0; width: 100%;\n",
       "                        height: 100%;\"></div>\n",
       "          </div>\n",
       "          <div style=\"margin-left: 8px; flex-shrink: 0;\n",
       "                      font-family: var(--jp-code-font-family, monospace);\n",
       "                      font-size: var(--jp-code-font-size, 13px);\">\n",
       "            200/200 [01:09&lt;00:00, 2.87time-steps/s]\n",
       "          </div>\n",
       "        </div>\n",
       "        "
      ],
      "text/plain": [
       "Filtering: 100%|██████████|200/200 [01:09<00:00, 2.87time-steps/s]"
      ]
     },
     "metadata": {},
     "output_type": "display_data"
    },
    {
     "data": {
      "text/html": [
       "\n",
       "        <div style=\"line-height: 28px; width: 100%; display: flex;\n",
       "                    flex-flow: row wrap; align-items: center;\n",
       "                    position: relative;\">\n",
       "          <label style=\"margin-right: 8px; flex-shrink: 0;\n",
       "                        font-size: var(--jp-code-font-size, 13px);\n",
       "                        font-family: var(--jp-code-font-family, monospace);\">\n",
       "            Filtering:&nbsp;100%\n",
       "          </label>\n",
       "          <div role=\"progressbar\" aria-valuenow=\"1.0\"\n",
       "               aria-valuemin=\"0\" aria-valuemax=\"1\"\n",
       "               style=\"position: relative; flex-grow: 1; align-self: stretch;\n",
       "                      margin-top: 4px; margin-bottom: 4px;  height: initial;\n",
       "                      background-color: #eee;\">\n",
       "            <div style=\"background-color: var(--jp-success-color1, #4caf50); position: absolute;\n",
       "                        bottom: 0; left: 0; width: 100%;\n",
       "                        height: 100%;\"></div>\n",
       "          </div>\n",
       "          <div style=\"margin-left: 8px; flex-shrink: 0;\n",
       "                      font-family: var(--jp-code-font-family, monospace);\n",
       "                      font-size: var(--jp-code-font-size, 13px);\">\n",
       "            200/200 [01:10&lt;00:00, 2.85time-steps/s]\n",
       "          </div>\n",
       "        </div>\n",
       "        "
      ],
      "text/plain": [
       "Filtering: 100%|██████████|200/200 [01:10<00:00, 2.85time-steps/s]"
      ]
     },
     "metadata": {},
     "output_type": "display_data"
    },
    {
     "data": {
      "text/html": [
       "\n",
       "        <div style=\"line-height: 28px; width: 100%; display: flex;\n",
       "                    flex-flow: row wrap; align-items: center;\n",
       "                    position: relative;\">\n",
       "          <label style=\"margin-right: 8px; flex-shrink: 0;\n",
       "                        font-size: var(--jp-code-font-size, 13px);\n",
       "                        font-family: var(--jp-code-font-family, monospace);\">\n",
       "            Filtering:&nbsp;100%\n",
       "          </label>\n",
       "          <div role=\"progressbar\" aria-valuenow=\"1.0\"\n",
       "               aria-valuemin=\"0\" aria-valuemax=\"1\"\n",
       "               style=\"position: relative; flex-grow: 1; align-self: stretch;\n",
       "                      margin-top: 4px; margin-bottom: 4px;  height: initial;\n",
       "                      background-color: #eee;\">\n",
       "            <div style=\"background-color: var(--jp-success-color1, #4caf50); position: absolute;\n",
       "                        bottom: 0; left: 0; width: 100%;\n",
       "                        height: 100%;\"></div>\n",
       "          </div>\n",
       "          <div style=\"margin-left: 8px; flex-shrink: 0;\n",
       "                      font-family: var(--jp-code-font-family, monospace);\n",
       "                      font-size: var(--jp-code-font-size, 13px);\">\n",
       "            200/200 [01:10&lt;00:00, 2.85time-steps/s]\n",
       "          </div>\n",
       "        </div>\n",
       "        "
      ],
      "text/plain": [
       "Filtering: 100%|██████████|200/200 [01:10<00:00, 2.85time-steps/s]"
      ]
     },
     "metadata": {},
     "output_type": "display_data"
    },
    {
     "name": "stdout",
     "output_type": "stream",
     "text": [
      "Number of particles = 200\n"
     ]
    },
    {
     "data": {
      "text/html": [
       "\n",
       "        <div style=\"line-height: 28px; width: 100%; display: flex;\n",
       "                    flex-flow: row wrap; align-items: center;\n",
       "                    position: relative;\">\n",
       "          <label style=\"margin-right: 8px; flex-shrink: 0;\n",
       "                        font-size: var(--jp-code-font-size, 13px);\n",
       "                        font-family: var(--jp-code-font-family, monospace);\">\n",
       "            Filtering:&nbsp;100%\n",
       "          </label>\n",
       "          <div role=\"progressbar\" aria-valuenow=\"1.0\"\n",
       "               aria-valuemin=\"0\" aria-valuemax=\"1\"\n",
       "               style=\"position: relative; flex-grow: 1; align-self: stretch;\n",
       "                      margin-top: 4px; margin-bottom: 4px;  height: initial;\n",
       "                      background-color: #eee;\">\n",
       "            <div style=\"background-color: var(--jp-success-color1, #4caf50); position: absolute;\n",
       "                        bottom: 0; left: 0; width: 100%;\n",
       "                        height: 100%;\"></div>\n",
       "          </div>\n",
       "          <div style=\"margin-left: 8px; flex-shrink: 0;\n",
       "                      font-family: var(--jp-code-font-family, monospace);\n",
       "                      font-size: var(--jp-code-font-size, 13px);\">\n",
       "            200/200 [04:15&lt;00:00, 1.28s/time-steps]\n",
       "          </div>\n",
       "        </div>\n",
       "        "
      ],
      "text/plain": [
       "Filtering: 100%|██████████|200/200 [04:15<00:00, 1.28s/time-steps]"
      ]
     },
     "metadata": {},
     "output_type": "display_data"
    },
    {
     "data": {
      "text/html": [
       "\n",
       "        <div style=\"line-height: 28px; width: 100%; display: flex;\n",
       "                    flex-flow: row wrap; align-items: center;\n",
       "                    position: relative;\">\n",
       "          <label style=\"margin-right: 8px; flex-shrink: 0;\n",
       "                        font-size: var(--jp-code-font-size, 13px);\n",
       "                        font-family: var(--jp-code-font-family, monospace);\">\n",
       "            Filtering:&nbsp;100%\n",
       "          </label>\n",
       "          <div role=\"progressbar\" aria-valuenow=\"1.0\"\n",
       "               aria-valuemin=\"0\" aria-valuemax=\"1\"\n",
       "               style=\"position: relative; flex-grow: 1; align-self: stretch;\n",
       "                      margin-top: 4px; margin-bottom: 4px;  height: initial;\n",
       "                      background-color: #eee;\">\n",
       "            <div style=\"background-color: var(--jp-success-color1, #4caf50); position: absolute;\n",
       "                        bottom: 0; left: 0; width: 100%;\n",
       "                        height: 100%;\"></div>\n",
       "          </div>\n",
       "          <div style=\"margin-left: 8px; flex-shrink: 0;\n",
       "                      font-family: var(--jp-code-font-family, monospace);\n",
       "                      font-size: var(--jp-code-font-size, 13px);\">\n",
       "            200/200 [04:15&lt;00:00, 1.28s/time-steps]\n",
       "          </div>\n",
       "        </div>\n",
       "        "
      ],
      "text/plain": [
       "Filtering: 100%|██████████|200/200 [04:15<00:00, 1.28s/time-steps]"
      ]
     },
     "metadata": {},
     "output_type": "display_data"
    },
    {
     "data": {
      "text/html": [
       "\n",
       "        <div style=\"line-height: 28px; width: 100%; display: flex;\n",
       "                    flex-flow: row wrap; align-items: center;\n",
       "                    position: relative;\">\n",
       "          <label style=\"margin-right: 8px; flex-shrink: 0;\n",
       "                        font-size: var(--jp-code-font-size, 13px);\n",
       "                        font-family: var(--jp-code-font-family, monospace);\">\n",
       "            Filtering:&nbsp;100%\n",
       "          </label>\n",
       "          <div role=\"progressbar\" aria-valuenow=\"1.0\"\n",
       "               aria-valuemin=\"0\" aria-valuemax=\"1\"\n",
       "               style=\"position: relative; flex-grow: 1; align-self: stretch;\n",
       "                      margin-top: 4px; margin-bottom: 4px;  height: initial;\n",
       "                      background-color: #eee;\">\n",
       "            <div style=\"background-color: var(--jp-success-color1, #4caf50); position: absolute;\n",
       "                        bottom: 0; left: 0; width: 100%;\n",
       "                        height: 100%;\"></div>\n",
       "          </div>\n",
       "          <div style=\"margin-left: 8px; flex-shrink: 0;\n",
       "                      font-family: var(--jp-code-font-family, monospace);\n",
       "                      font-size: var(--jp-code-font-size, 13px);\">\n",
       "            200/200 [04:16&lt;00:00, 1.28s/time-steps]\n",
       "          </div>\n",
       "        </div>\n",
       "        "
      ],
      "text/plain": [
       "Filtering: 100%|██████████|200/200 [04:16<00:00, 1.28s/time-steps]"
      ]
     },
     "metadata": {},
     "output_type": "display_data"
    },
    {
     "data": {
      "text/html": [
       "\n",
       "        <div style=\"line-height: 28px; width: 100%; display: flex;\n",
       "                    flex-flow: row wrap; align-items: center;\n",
       "                    position: relative;\">\n",
       "          <label style=\"margin-right: 8px; flex-shrink: 0;\n",
       "                        font-size: var(--jp-code-font-size, 13px);\n",
       "                        font-family: var(--jp-code-font-family, monospace);\">\n",
       "            Filtering:&nbsp;100%\n",
       "          </label>\n",
       "          <div role=\"progressbar\" aria-valuenow=\"1.0\"\n",
       "               aria-valuemin=\"0\" aria-valuemax=\"1\"\n",
       "               style=\"position: relative; flex-grow: 1; align-self: stretch;\n",
       "                      margin-top: 4px; margin-bottom: 4px;  height: initial;\n",
       "                      background-color: #eee;\">\n",
       "            <div style=\"background-color: var(--jp-success-color1, #4caf50); position: absolute;\n",
       "                        bottom: 0; left: 0; width: 100%;\n",
       "                        height: 100%;\"></div>\n",
       "          </div>\n",
       "          <div style=\"margin-left: 8px; flex-shrink: 0;\n",
       "                      font-family: var(--jp-code-font-family, monospace);\n",
       "                      font-size: var(--jp-code-font-size, 13px);\">\n",
       "            200/200 [04:15&lt;00:00, 1.28s/time-steps]\n",
       "          </div>\n",
       "        </div>\n",
       "        "
      ],
      "text/plain": [
       "Filtering: 100%|██████████|200/200 [04:15<00:00, 1.28s/time-steps]"
      ]
     },
     "metadata": {},
     "output_type": "display_data"
    },
    {
     "data": {
      "text/html": [
       "\n",
       "        <div style=\"line-height: 28px; width: 100%; display: flex;\n",
       "                    flex-flow: row wrap; align-items: center;\n",
       "                    position: relative;\">\n",
       "          <label style=\"margin-right: 8px; flex-shrink: 0;\n",
       "                        font-size: var(--jp-code-font-size, 13px);\n",
       "                        font-family: var(--jp-code-font-family, monospace);\">\n",
       "            Filtering:&nbsp;100%\n",
       "          </label>\n",
       "          <div role=\"progressbar\" aria-valuenow=\"1.0\"\n",
       "               aria-valuemin=\"0\" aria-valuemax=\"1\"\n",
       "               style=\"position: relative; flex-grow: 1; align-self: stretch;\n",
       "                      margin-top: 4px; margin-bottom: 4px;  height: initial;\n",
       "                      background-color: #eee;\">\n",
       "            <div style=\"background-color: var(--jp-success-color1, #4caf50); position: absolute;\n",
       "                        bottom: 0; left: 0; width: 100%;\n",
       "                        height: 100%;\"></div>\n",
       "          </div>\n",
       "          <div style=\"margin-left: 8px; flex-shrink: 0;\n",
       "                      font-family: var(--jp-code-font-family, monospace);\n",
       "                      font-size: var(--jp-code-font-size, 13px);\">\n",
       "            200/200 [04:15&lt;00:00, 1.28s/time-steps]\n",
       "          </div>\n",
       "        </div>\n",
       "        "
      ],
      "text/plain": [
       "Filtering: 100%|██████████|200/200 [04:15<00:00, 1.28s/time-steps]"
      ]
     },
     "metadata": {},
     "output_type": "display_data"
    },
    {
     "name": "stdout",
     "output_type": "stream",
     "text": [
      "Number of particles = 400\n"
     ]
    },
    {
     "data": {
      "text/html": [
       "\n",
       "        <div style=\"line-height: 28px; width: 100%; display: flex;\n",
       "                    flex-flow: row wrap; align-items: center;\n",
       "                    position: relative;\">\n",
       "          <label style=\"margin-right: 8px; flex-shrink: 0;\n",
       "                        font-size: var(--jp-code-font-size, 13px);\n",
       "                        font-family: var(--jp-code-font-family, monospace);\">\n",
       "            Filtering:&nbsp;100%\n",
       "          </label>\n",
       "          <div role=\"progressbar\" aria-valuenow=\"1.0\"\n",
       "               aria-valuemin=\"0\" aria-valuemax=\"1\"\n",
       "               style=\"position: relative; flex-grow: 1; align-self: stretch;\n",
       "                      margin-top: 4px; margin-bottom: 4px;  height: initial;\n",
       "                      background-color: #eee;\">\n",
       "            <div style=\"background-color: var(--jp-success-color1, #4caf50); position: absolute;\n",
       "                        bottom: 0; left: 0; width: 100%;\n",
       "                        height: 100%;\"></div>\n",
       "          </div>\n",
       "          <div style=\"margin-left: 8px; flex-shrink: 0;\n",
       "                      font-family: var(--jp-code-font-family, monospace);\n",
       "                      font-size: var(--jp-code-font-size, 13px);\">\n",
       "            200/200 [16:45&lt;00:00, 5.03s/time-steps]\n",
       "          </div>\n",
       "        </div>\n",
       "        "
      ],
      "text/plain": [
       "Filtering: 100%|██████████|200/200 [16:45<00:00, 5.03s/time-steps]"
      ]
     },
     "metadata": {},
     "output_type": "display_data"
    },
    {
     "data": {
      "text/html": [
       "\n",
       "        <div style=\"line-height: 28px; width: 100%; display: flex;\n",
       "                    flex-flow: row wrap; align-items: center;\n",
       "                    position: relative;\">\n",
       "          <label style=\"margin-right: 8px; flex-shrink: 0;\n",
       "                        font-size: var(--jp-code-font-size, 13px);\n",
       "                        font-family: var(--jp-code-font-family, monospace);\">\n",
       "            Filtering:&nbsp;100%\n",
       "          </label>\n",
       "          <div role=\"progressbar\" aria-valuenow=\"1.0\"\n",
       "               aria-valuemin=\"0\" aria-valuemax=\"1\"\n",
       "               style=\"position: relative; flex-grow: 1; align-self: stretch;\n",
       "                      margin-top: 4px; margin-bottom: 4px;  height: initial;\n",
       "                      background-color: #eee;\">\n",
       "            <div style=\"background-color: var(--jp-success-color1, #4caf50); position: absolute;\n",
       "                        bottom: 0; left: 0; width: 100%;\n",
       "                        height: 100%;\"></div>\n",
       "          </div>\n",
       "          <div style=\"margin-left: 8px; flex-shrink: 0;\n",
       "                      font-family: var(--jp-code-font-family, monospace);\n",
       "                      font-size: var(--jp-code-font-size, 13px);\">\n",
       "            200/200 [16:47&lt;00:00, 5.04s/time-steps]\n",
       "          </div>\n",
       "        </div>\n",
       "        "
      ],
      "text/plain": [
       "Filtering: 100%|██████████|200/200 [16:47<00:00, 5.04s/time-steps]"
      ]
     },
     "metadata": {},
     "output_type": "display_data"
    },
    {
     "data": {
      "text/html": [
       "\n",
       "        <div style=\"line-height: 28px; width: 100%; display: flex;\n",
       "                    flex-flow: row wrap; align-items: center;\n",
       "                    position: relative;\">\n",
       "          <label style=\"margin-right: 8px; flex-shrink: 0;\n",
       "                        font-size: var(--jp-code-font-size, 13px);\n",
       "                        font-family: var(--jp-code-font-family, monospace);\">\n",
       "            Filtering:&nbsp;100%\n",
       "          </label>\n",
       "          <div role=\"progressbar\" aria-valuenow=\"1.0\"\n",
       "               aria-valuemin=\"0\" aria-valuemax=\"1\"\n",
       "               style=\"position: relative; flex-grow: 1; align-self: stretch;\n",
       "                      margin-top: 4px; margin-bottom: 4px;  height: initial;\n",
       "                      background-color: #eee;\">\n",
       "            <div style=\"background-color: var(--jp-success-color1, #4caf50); position: absolute;\n",
       "                        bottom: 0; left: 0; width: 100%;\n",
       "                        height: 100%;\"></div>\n",
       "          </div>\n",
       "          <div style=\"margin-left: 8px; flex-shrink: 0;\n",
       "                      font-family: var(--jp-code-font-family, monospace);\n",
       "                      font-size: var(--jp-code-font-size, 13px);\">\n",
       "            200/200 [16:50&lt;00:00, 5.05s/time-steps]\n",
       "          </div>\n",
       "        </div>\n",
       "        "
      ],
      "text/plain": [
       "Filtering: 100%|██████████|200/200 [16:50<00:00, 5.05s/time-steps]"
      ]
     },
     "metadata": {},
     "output_type": "display_data"
    },
    {
     "data": {
      "text/html": [
       "\n",
       "        <div style=\"line-height: 28px; width: 100%; display: flex;\n",
       "                    flex-flow: row wrap; align-items: center;\n",
       "                    position: relative;\">\n",
       "          <label style=\"margin-right: 8px; flex-shrink: 0;\n",
       "                        font-size: var(--jp-code-font-size, 13px);\n",
       "                        font-family: var(--jp-code-font-family, monospace);\">\n",
       "            Filtering:&nbsp;100%\n",
       "          </label>\n",
       "          <div role=\"progressbar\" aria-valuenow=\"1.0\"\n",
       "               aria-valuemin=\"0\" aria-valuemax=\"1\"\n",
       "               style=\"position: relative; flex-grow: 1; align-self: stretch;\n",
       "                      margin-top: 4px; margin-bottom: 4px;  height: initial;\n",
       "                      background-color: #eee;\">\n",
       "            <div style=\"background-color: var(--jp-success-color1, #4caf50); position: absolute;\n",
       "                        bottom: 0; left: 0; width: 100%;\n",
       "                        height: 100%;\"></div>\n",
       "          </div>\n",
       "          <div style=\"margin-left: 8px; flex-shrink: 0;\n",
       "                      font-family: var(--jp-code-font-family, monospace);\n",
       "                      font-size: var(--jp-code-font-size, 13px);\">\n",
       "            200/200 [16:47&lt;00:00, 5.04s/time-steps]\n",
       "          </div>\n",
       "        </div>\n",
       "        "
      ],
      "text/plain": [
       "Filtering: 100%|██████████|200/200 [16:47<00:00, 5.04s/time-steps]"
      ]
     },
     "metadata": {},
     "output_type": "display_data"
    },
    {
     "data": {
      "text/html": [
       "\n",
       "        <div style=\"line-height: 28px; width: 100%; display: flex;\n",
       "                    flex-flow: row wrap; align-items: center;\n",
       "                    position: relative;\">\n",
       "          <label style=\"margin-right: 8px; flex-shrink: 0;\n",
       "                        font-size: var(--jp-code-font-size, 13px);\n",
       "                        font-family: var(--jp-code-font-family, monospace);\">\n",
       "            Filtering:&nbsp;100%\n",
       "          </label>\n",
       "          <div role=\"progressbar\" aria-valuenow=\"1.0\"\n",
       "               aria-valuemin=\"0\" aria-valuemax=\"1\"\n",
       "               style=\"position: relative; flex-grow: 1; align-self: stretch;\n",
       "                      margin-top: 4px; margin-bottom: 4px;  height: initial;\n",
       "                      background-color: #eee;\">\n",
       "            <div style=\"background-color: var(--jp-success-color1, #4caf50); position: absolute;\n",
       "                        bottom: 0; left: 0; width: 100%;\n",
       "                        height: 100%;\"></div>\n",
       "          </div>\n",
       "          <div style=\"margin-left: 8px; flex-shrink: 0;\n",
       "                      font-family: var(--jp-code-font-family, monospace);\n",
       "                      font-size: var(--jp-code-font-size, 13px);\">\n",
       "            200/200 [16:49&lt;00:00, 5.05s/time-steps]\n",
       "          </div>\n",
       "        </div>\n",
       "        "
      ],
      "text/plain": [
       "Filtering: 100%|██████████|200/200 [16:49<00:00, 5.05s/time-steps]"
      ]
     },
     "metadata": {},
     "output_type": "display_data"
    },
    {
     "name": "stdout",
     "output_type": "stream",
     "text": [
      "Number of particles = 800\n"
     ]
    },
    {
     "data": {
      "text/html": [
       "\n",
       "        <div style=\"line-height: 28px; width: 100%; display: flex;\n",
       "                    flex-flow: row wrap; align-items: center;\n",
       "                    position: relative;\">\n",
       "          <label style=\"margin-right: 8px; flex-shrink: 0;\n",
       "                        font-size: var(--jp-code-font-size, 13px);\n",
       "                        font-family: var(--jp-code-font-family, monospace);\">\n",
       "            Filtering:&nbsp;100%\n",
       "          </label>\n",
       "          <div role=\"progressbar\" aria-valuenow=\"1.0\"\n",
       "               aria-valuemin=\"0\" aria-valuemax=\"1\"\n",
       "               style=\"position: relative; flex-grow: 1; align-self: stretch;\n",
       "                      margin-top: 4px; margin-bottom: 4px;  height: initial;\n",
       "                      background-color: #eee;\">\n",
       "            <div style=\"background-color: var(--jp-success-color1, #4caf50); position: absolute;\n",
       "                        bottom: 0; left: 0; width: 100%;\n",
       "                        height: 100%;\"></div>\n",
       "          </div>\n",
       "          <div style=\"margin-left: 8px; flex-shrink: 0;\n",
       "                      font-family: var(--jp-code-font-family, monospace);\n",
       "                      font-size: var(--jp-code-font-size, 13px);\">\n",
       "            200/200 [1:10:20&lt;00:00, 21.10s/time-steps]\n",
       "          </div>\n",
       "        </div>\n",
       "        "
      ],
      "text/plain": [
       "Filtering: 100%|██████████|200/200 [1:10:20<00:00, 21.10s/time-steps]"
      ]
     },
     "metadata": {},
     "output_type": "display_data"
    },
    {
     "data": {
      "text/html": [
       "\n",
       "        <div style=\"line-height: 28px; width: 100%; display: flex;\n",
       "                    flex-flow: row wrap; align-items: center;\n",
       "                    position: relative;\">\n",
       "          <label style=\"margin-right: 8px; flex-shrink: 0;\n",
       "                        font-size: var(--jp-code-font-size, 13px);\n",
       "                        font-family: var(--jp-code-font-family, monospace);\">\n",
       "            Filtering:&nbsp;100%\n",
       "          </label>\n",
       "          <div role=\"progressbar\" aria-valuenow=\"1.0\"\n",
       "               aria-valuemin=\"0\" aria-valuemax=\"1\"\n",
       "               style=\"position: relative; flex-grow: 1; align-self: stretch;\n",
       "                      margin-top: 4px; margin-bottom: 4px;  height: initial;\n",
       "                      background-color: #eee;\">\n",
       "            <div style=\"background-color: var(--jp-success-color1, #4caf50); position: absolute;\n",
       "                        bottom: 0; left: 0; width: 100%;\n",
       "                        height: 100%;\"></div>\n",
       "          </div>\n",
       "          <div style=\"margin-left: 8px; flex-shrink: 0;\n",
       "                      font-family: var(--jp-code-font-family, monospace);\n",
       "                      font-size: var(--jp-code-font-size, 13px);\">\n",
       "            200/200 [1:10:08&lt;00:00, 21.04s/time-steps]\n",
       "          </div>\n",
       "        </div>\n",
       "        "
      ],
      "text/plain": [
       "Filtering: 100%|██████████|200/200 [1:10:08<00:00, 21.04s/time-steps]"
      ]
     },
     "metadata": {},
     "output_type": "display_data"
    },
    {
     "data": {
      "text/html": [
       "\n",
       "        <div style=\"line-height: 28px; width: 100%; display: flex;\n",
       "                    flex-flow: row wrap; align-items: center;\n",
       "                    position: relative;\">\n",
       "          <label style=\"margin-right: 8px; flex-shrink: 0;\n",
       "                        font-size: var(--jp-code-font-size, 13px);\n",
       "                        font-family: var(--jp-code-font-family, monospace);\">\n",
       "            Filtering:&nbsp;100%\n",
       "          </label>\n",
       "          <div role=\"progressbar\" aria-valuenow=\"1.0\"\n",
       "               aria-valuemin=\"0\" aria-valuemax=\"1\"\n",
       "               style=\"position: relative; flex-grow: 1; align-self: stretch;\n",
       "                      margin-top: 4px; margin-bottom: 4px;  height: initial;\n",
       "                      background-color: #eee;\">\n",
       "            <div style=\"background-color: var(--jp-success-color1, #4caf50); position: absolute;\n",
       "                        bottom: 0; left: 0; width: 100%;\n",
       "                        height: 100%;\"></div>\n",
       "          </div>\n",
       "          <div style=\"margin-left: 8px; flex-shrink: 0;\n",
       "                      font-family: var(--jp-code-font-family, monospace);\n",
       "                      font-size: var(--jp-code-font-size, 13px);\">\n",
       "            200/200 [1:10:05&lt;00:00, 21.03s/time-steps]\n",
       "          </div>\n",
       "        </div>\n",
       "        "
      ],
      "text/plain": [
       "Filtering: 100%|██████████|200/200 [1:10:05<00:00, 21.03s/time-steps]"
      ]
     },
     "metadata": {},
     "output_type": "display_data"
    },
    {
     "data": {
      "text/html": [
       "\n",
       "        <div style=\"line-height: 28px; width: 100%; display: flex;\n",
       "                    flex-flow: row wrap; align-items: center;\n",
       "                    position: relative;\">\n",
       "          <label style=\"margin-right: 8px; flex-shrink: 0;\n",
       "                        font-size: var(--jp-code-font-size, 13px);\n",
       "                        font-family: var(--jp-code-font-family, monospace);\">\n",
       "            Filtering:&nbsp;100%\n",
       "          </label>\n",
       "          <div role=\"progressbar\" aria-valuenow=\"1.0\"\n",
       "               aria-valuemin=\"0\" aria-valuemax=\"1\"\n",
       "               style=\"position: relative; flex-grow: 1; align-self: stretch;\n",
       "                      margin-top: 4px; margin-bottom: 4px;  height: initial;\n",
       "                      background-color: #eee;\">\n",
       "            <div style=\"background-color: var(--jp-success-color1, #4caf50); position: absolute;\n",
       "                        bottom: 0; left: 0; width: 100%;\n",
       "                        height: 100%;\"></div>\n",
       "          </div>\n",
       "          <div style=\"margin-left: 8px; flex-shrink: 0;\n",
       "                      font-family: var(--jp-code-font-family, monospace);\n",
       "                      font-size: var(--jp-code-font-size, 13px);\">\n",
       "            200/200 [1:10:09&lt;00:00, 21.05s/time-steps]\n",
       "          </div>\n",
       "        </div>\n",
       "        "
      ],
      "text/plain": [
       "Filtering: 100%|██████████|200/200 [1:10:09<00:00, 21.05s/time-steps]"
      ]
     },
     "metadata": {},
     "output_type": "display_data"
    },
    {
     "data": {
      "text/html": [
       "\n",
       "        <div style=\"line-height: 28px; width: 100%; display: flex;\n",
       "                    flex-flow: row wrap; align-items: center;\n",
       "                    position: relative;\">\n",
       "          <label style=\"margin-right: 8px; flex-shrink: 0;\n",
       "                        font-size: var(--jp-code-font-size, 13px);\n",
       "                        font-family: var(--jp-code-font-family, monospace);\">\n",
       "            Filtering:&nbsp;100%\n",
       "          </label>\n",
       "          <div role=\"progressbar\" aria-valuenow=\"1.0\"\n",
       "               aria-valuemin=\"0\" aria-valuemax=\"1\"\n",
       "               style=\"position: relative; flex-grow: 1; align-self: stretch;\n",
       "                      margin-top: 4px; margin-bottom: 4px;  height: initial;\n",
       "                      background-color: #eee;\">\n",
       "            <div style=\"background-color: var(--jp-success-color1, #4caf50); position: absolute;\n",
       "                        bottom: 0; left: 0; width: 100%;\n",
       "                        height: 100%;\"></div>\n",
       "          </div>\n",
       "          <div style=\"margin-left: 8px; flex-shrink: 0;\n",
       "                      font-family: var(--jp-code-font-family, monospace);\n",
       "                      font-size: var(--jp-code-font-size, 13px);\">\n",
       "            200/200 [1:10:07&lt;00:00, 21.04s/time-steps]\n",
       "          </div>\n",
       "        </div>\n",
       "        "
      ],
      "text/plain": [
       "Filtering: 100%|██████████|200/200 [1:10:07<00:00, 21.04s/time-steps]"
      ]
     },
     "metadata": {},
     "output_type": "display_data"
    }
   ],
   "source": [
    "results_per_num_particle = {}\n",
    "num_particle_grid = np.array([100, 200, 400, 800])\n",
    "for num_particle in num_particle_grid:\n",
    "    print(f'Number of particles = {num_particle}')\n",
    "    results_per_num_particle[num_particle] = []\n",
    "    for seed in np.random.SeedSequence(2422663217).spawn(5):\n",
    "        rng = np.random.default_rng(seed)\n",
    "        results_per_num_particle[num_particle].append(ensemble_filter.filter(\n",
    "            model=model, \n",
    "            observation_sequence=observation_sequence, \n",
    "            observation_time_indices=observation_time_indices, \n",
    "            num_particle=num_particle, \n",
    "            rng=rng, \n",
    "            return_particles=False\n",
    "        ))"
   ]
  },
  {
   "cell_type": "code",
   "execution_count": 20,
   "id": "88f442b5-801d-4d75-aa8b-85137b186629",
   "metadata": {},
   "outputs": [
    {
     "name": "stderr",
     "output_type": "stream",
     "text": [
      "/home/matt/miniconda3/envs/dapy/lib/python3.7/site-packages/IPython/core/interactiveshell.py:3444: FutureWarning: arrays to stack must be passed as a \"sequence\" type such as list or tuple. Support for non-sequence iterables such as generators is deprecated as of NumPy 1.16 and will raise an error in the future.\n",
      "  if (await self.run_code(code, result,  async_=asy)):\n"
     ]
    }
   ],
   "source": [
    "for num_particle, results_list in results_per_num_particle.items():\n",
    "    np.savez(\n",
    "        f'damped-advection-{num_particle}-particle-results.npz', \n",
    "        state_mean_sequence=np.stack(r['state_mean_sequence'] for r in results_list),\n",
    "        state_std_sequence=np.stack(r['state_std_sequence'] for r in results_list),\n",
    "    )"
   ]
  },
  {
   "cell_type": "code",
   "execution_count": 11,
   "id": "d135bcde-82a9-4910-b121-b718f6c55cf4",
   "metadata": {},
   "outputs": [],
   "source": [
    "rmse_in_mean_estimate = np.array(\n",
    "    [[((results['state_mean_sequence']**2).mean())**0.5 for results in results_list] for results_list in results_per_num_particle.values()]\n",
    ")"
   ]
  },
  {
   "cell_type": "code",
   "execution_count": 14,
   "id": "83a56f5a-1081-47ec-85a8-7e8c71bcc111",
   "metadata": {},
   "outputs": [],
   "source": [
    "plt.rcParams.update({\n",
    "    'mathtext.fontset': 'cm',\n",
    "    'font.family': 'Latin Modern Roman',\n",
    "    'text.usetex': True,\n",
    "    'axes.titlesize': 10,\n",
    "    'axes.labelsize': 10,\n",
    "    'xtick.labelsize': 6,\n",
    "    'ytick.labelsize': 6,\n",
    "    'legend.fontsize': 10,\n",
    "    'axes.linewidth': 0.5,\n",
    "    'lines.linewidth': 0.75,\n",
    "    'grid.linewidth': 0.5,\n",
    "    'axes.labelpad': 2.,\n",
    "    'figure.dpi': 150,\n",
    "    'animation.html': 'html5'\n",
    "})"
   ]
  },
  {
   "cell_type": "code",
   "execution_count": 19,
   "id": "cbb26573-1d99-47af-acf1-8c02ab96502f",
   "metadata": {},
   "outputs": [
    {
     "data": {
      "image/png": "[encoded data removed]",
      "text/plain": [
       "<Figure size 600x375 with 1 Axes>"
      ]
     },
     "metadata": {},
     "output_type": "display_data"
    }
   ],
   "source": [
    "\n",
    "fig, ax = plt.subplots(figsize=(4, 2.5))\n",
    "ax.fill_between(\n",
    "    num_particle_grid, \n",
    "    np.min(rmse_in_mean_estimate, -1),\n",
    "    np.max(rmse_in_mean_estimate, -1),\n",
    "    alpha=0.5,\n",
    "    facecolor='gray',\n",
    "    edgecolor='gray',\n",
    "    lw=0,\n",
    ")\n",
    "ax.plot(\n",
    "    num_particle_grid, \n",
    "    np.median(rmse_in_mean_estimate, -1),\n",
    "    '-',\n",
    "    color='black'\n",
    ")\n",
    "ax.set_xlabel('Number of particles $P$')\n",
    "ax.set_ylabel('$\\\\textsc{{rmse}}(\\\\mu,\\\\hat{{\\\\mu}})$')\n",
    "ax.set_ylim(0, 0.4)\n",
    "fig.tight_layout()\n",
    "fig.savefig('damped-advection-model-num-particles.pdf')"
   ]
  },
  {
   "cell_type": "code",
   "execution_count": null,
   "id": "fe86ae15-a8b8-4245-8b72-9aecceb9fd3b",
   "metadata": {},
   "outputs": [],
   "source": []
  }
 ],
 "metadata": {
  "kernelspec": {
   "display_name": "Python 3 (ipykernel)",
   "language": "python",
   "name": "python3"
  },
  "language_info": {
   "codemirror_mode": {
    "name": "ipython",
    "version": 3
   },
   "file_extension": ".py",
   "mimetype": "text/x-python",
   "name": "python",
   "nbconvert_exporter": "python",
   "pygments_lexer": "ipython3",
   "version": "3.7.12"
  },
  "widgets": {
   "application/vnd.jupyter.widget-state+json": {
    "state": {},
    "version_major": 2,
    "version_minor": 0
   }
  }
 },
 "nbformat": 4,
 "nbformat_minor": 5
}
